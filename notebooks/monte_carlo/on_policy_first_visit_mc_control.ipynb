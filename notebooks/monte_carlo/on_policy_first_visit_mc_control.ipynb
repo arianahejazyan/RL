{
 "cells": [
  {
   "cell_type": "markdown",
   "id": "4c004388",
   "metadata": {},
   "source": [
    "# On-Policy First-Visit MC Control (for $\\epsilon$-soft policies), estimates $\\pi\\approx\\pi_*$"
   ]
  },
  {
   "cell_type": "code",
   "execution_count": 15,
   "id": "9ec43256",
   "metadata": {},
   "outputs": [],
   "source": [
    "import gymnasium as gym\n",
    "import numpy as np\n",
    "from tqdm import tqdm\n",
    "import time"
   ]
  },
  {
   "cell_type": "code",
   "execution_count": 16,
   "id": "f7e07e64",
   "metadata": {},
   "outputs": [],
   "source": [
    "SEED = 42\n",
    "np.random.seed(SEED)"
   ]
  },
  {
   "cell_type": "code",
   "execution_count": 17,
   "id": "3142b15c",
   "metadata": {},
   "outputs": [],
   "source": [
    "def make_greedy_policy(Q):\n",
    "    def policy(state):\n",
    "        return np.argmax(Q[state])\n",
    "    return policy"
   ]
  },
  {
   "cell_type": "code",
   "execution_count": 18,
   "id": "049d7a7a",
   "metadata": {},
   "outputs": [],
   "source": [
    "def make_epsilon_greedy_policy(Q, epsilon, nA):\n",
    "    def policy(state):\n",
    "        action_probs = np.ones(nA) * (epsilon / nA)\n",
    "        best_action = np.argmax(Q[state])\n",
    "        action_probs[best_action] += (1.0 - epsilon)\n",
    "        return action_probs\n",
    "    return policy"
   ]
  },
  {
   "cell_type": "code",
   "execution_count": 19,
   "id": "776b4f33",
   "metadata": {},
   "outputs": [],
   "source": [
    "def generate_episode(env, policy, max_steps=100):\n",
    "    episode = []\n",
    "    state = env.reset()[0]\n",
    "    done = False\n",
    "    steps = 0\n",
    "\n",
    "    while not done and steps < max_steps:\n",
    "        action_probs = policy(state)\n",
    "        action = np.random.choice(len(action_probs), p=action_probs)\n",
    "        next_state, reward, done, _, _ = env.step(action)\n",
    "\n",
    "        if not done:\n",
    "            reward -= 0.01  # Step penalty\n",
    "        elif reward == 0:\n",
    "            reward = -1.0   # Hole penalty\n",
    "        else:\n",
    "            reward = 5.0    # Reaching goal\n",
    "\n",
    "        episode.append((state, action, reward))\n",
    "        state = next_state\n",
    "        steps += 1\n",
    "\n",
    "    return episode"
   ]
  },
  {
   "cell_type": "code",
   "execution_count": 20,
   "id": "a890d2b6",
   "metadata": {},
   "outputs": [],
   "source": [
    "def on_policy_first_visit_mc_control(env, epsilon_start, num_episodes, gamma):\n",
    "    nS = env.observation_space.n\n",
    "    nA = env.action_space.n\n",
    "    Q = np.zeros((nS, nA))\n",
    "    returns_count = np.zeros((nS, nA))\n",
    "\n",
    "    epsilon_min = 0.05\n",
    "    epsilon_decay = 0.9993  # Slower decay keeps more exploration\n",
    "\n",
    "    for i in tqdm(range(num_episodes), desc=\"Training episodes\"):\n",
    "        epsilon = max(epsilon_min, epsilon_start * (epsilon_decay ** i))\n",
    "        policy = make_epsilon_greedy_policy(Q, epsilon, nA)\n",
    "        episode = generate_episode(env, policy)\n",
    "\n",
    "        G = 0\n",
    "        visited = set()\n",
    "        for t in reversed(range(len(episode))):\n",
    "            state, action, reward = episode[t]\n",
    "            G = gamma * G + reward\n",
    "            if (state, action) not in visited:\n",
    "                visited.add((state, action))\n",
    "                returns_count[state][action] += 1\n",
    "                Q[state][action] += (1 / returns_count[state][action]) * (G - Q[state][action])\n",
    "\n",
    "    return make_greedy_policy(Q), Q"
   ]
  },
  {
   "cell_type": "code",
   "execution_count": 21,
   "id": "0c2c6ba3",
   "metadata": {},
   "outputs": [],
   "source": [
    "custom_map = [\n",
    "    \"SFFHF\",\n",
    "    \"HFHFF\",\n",
    "    \"FFFHF\",\n",
    "    \"FHFFF\",\n",
    "    \"HFFFG\"\n",
    "]\n",
    "\n",
    "# Hyperparameters\n",
    "n_episodes = 3000\n",
    "gamma = 0.98\n",
    "epsilon_start = 1.0"
   ]
  },
  {
   "cell_type": "code",
   "execution_count": 22,
   "id": "bc926d83",
   "metadata": {},
   "outputs": [
    {
     "name": "stderr",
     "output_type": "stream",
     "text": [
      "Training episodes: 100%|██████████| 3000/3000 [00:02<00:00, 1450.48it/s]\n"
     ]
    }
   ],
   "source": [
    "# Train environment\n",
    "env = gym.make(\"FrozenLake-v1\", desc=custom_map, is_slippery=False)\n",
    "policy, Q = on_policy_first_visit_mc_control(env, epsilon_start, n_episodes, gamma)"
   ]
  },
  {
   "cell_type": "code",
   "execution_count": 23,
   "id": "7a9b1447",
   "metadata": {},
   "outputs": [],
   "source": [
    "# Save Q-table for later use\n",
    "np.savez('results/FrozenLake.npz', Q=Q)"
   ]
  },
  {
   "cell_type": "code",
   "execution_count": 24,
   "id": "e109d2c1",
   "metadata": {},
   "outputs": [],
   "source": [
    "env = gym.make(\"FrozenLake-v1\", desc=custom_map, is_slippery=False, render_mode=\"human\")\n",
    "state = env.reset()[0] \n",
    "done = False\n",
    "\n",
    "while not done:\n",
    "    env.render()\n",
    "    action = policy(state)\n",
    "    state, reward, done, truncate, info = env.step(action)\n",
    "    time.sleep(0.3)\n",
    "env.close()"
   ]
  },
  {
   "cell_type": "code",
   "execution_count": null,
   "id": "673070d5",
   "metadata": {},
   "outputs": [],
   "source": []
  }
 ],
 "metadata": {
  "kernelspec": {
   "display_name": "venv",
   "language": "python",
   "name": "python3"
  },
  "language_info": {
   "codemirror_mode": {
    "name": "ipython",
    "version": 3
   },
   "file_extension": ".py",
   "mimetype": "text/x-python",
   "name": "python",
   "nbconvert_exporter": "python",
   "pygments_lexer": "ipython3",
   "version": "3.12.3"
  }
 },
 "nbformat": 4,
 "nbformat_minor": 5
}
