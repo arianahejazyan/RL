{
 "cells": [
  {
   "cell_type": "markdown",
   "id": "e3d0e285",
   "metadata": {},
   "source": [
    "# Policy Iteration (using iterative policy evaluation) for estimating $\\pi\\approx\\pi_*$"
   ]
  },
  {
   "cell_type": "code",
   "execution_count": 1,
   "id": "d9328ffd",
   "metadata": {},
   "outputs": [],
   "source": [
    "import gymnasium as gym\n",
    "import numpy as np\n",
    "import time"
   ]
  },
  {
   "cell_type": "code",
   "execution_count": 2,
   "id": "0f9bad43",
   "metadata": {},
   "outputs": [],
   "source": [
    "def policy_evaluation(env, policy, gamma=0.99, theta=1e-6):\n",
    "    \n",
    "    n_states = env.observation_space.n\n",
    "    V = np.zeros(n_states)\n",
    "\n",
    "    while True:\n",
    "        delta = 0\n",
    "        for state in range(n_states):\n",
    "            v_old = V[state]\n",
    "            v_new = 0\n",
    "            action = policy[state]\n",
    "            for prob, new_state, reward, done in env.P[state][action]:\n",
    "                v_new += prob * (reward + gamma * V[new_state])\n",
    "            V[state] = v_new\n",
    "            delta = max(delta, abs(v_old - v_new))\n",
    "\n",
    "        if delta < theta:\n",
    "            break\n",
    "    \n",
    "    return V"
   ]
  },
  {
   "cell_type": "code",
   "execution_count": 3,
   "id": "a3bc79ea",
   "metadata": {},
   "outputs": [],
   "source": [
    "def policy_improvement(env, policy, V, gamma=0.99):\n",
    "    \n",
    "    n_states = env.observation_space.n\n",
    "    n_actions = env.action_space.n\n",
    "    stable = True\n",
    "\n",
    "    for state in range(n_states):\n",
    "        old_action = policy[state]\n",
    "        action_values = np.zeros(n_actions)\n",
    "        for action in range(n_actions):\n",
    "            for prob, new_state, reward, done in env.P[state][action]:\n",
    "                action_values[action] += prob * (reward + gamma * V[new_state])\n",
    "        new_action = np.argmax(action_values)\n",
    "        if old_action != new_action:\n",
    "            stable = False\n",
    "        policy[state] = new_action\n",
    "    \n",
    "    return policy, stable"
   ]
  },
  {
   "cell_type": "code",
   "execution_count": 4,
   "id": "9f5fc3c9",
   "metadata": {},
   "outputs": [],
   "source": [
    "def policy_iteration(env, gamma=0.99, theta=1e-3):\n",
    "    \n",
    "    n_states = env.observation_space.n\n",
    "    n_actions = env.action_space.n\n",
    "    V = np.zeros(n_states)\n",
    "    policy = np.random.randint(0, n_actions, size=n_states)\n",
    "\n",
    "    while True:\n",
    "        V = policy_evaluation(env, policy, gamma, theta)\n",
    "        policy, stable = policy_improvement(env, policy, V, gamma)\n",
    "        if stable:\n",
    "            break\n",
    "    \n",
    "    return policy, V"
   ]
  },
  {
   "cell_type": "code",
   "execution_count": 5,
   "id": "0f527da0",
   "metadata": {},
   "outputs": [],
   "source": [
    "# Training the Policy\n",
    "env = gym.make(\"Taxi-v3\")\n",
    "policy, V = policy_iteration(env.unwrapped)"
   ]
  },
  {
   "cell_type": "code",
   "execution_count": null,
   "id": "2881cddf",
   "metadata": {},
   "outputs": [],
   "source": [
    "# Save Policy and Value Function\n",
    "np.savez(\"results/Taxi.npz\", policy=policy, V=V)"
   ]
  },
  {
   "cell_type": "code",
   "execution_count": 7,
   "id": "c50aef74",
   "metadata": {},
   "outputs": [
    {
     "name": "stderr",
     "output_type": "stream",
     "text": [
      "/mnt/f/Projects/RL/venv/lib/python3.12/site-packages/pygame/pkgdata.py:25: UserWarning: pkg_resources is deprecated as an API. See https://setuptools.pypa.io/en/latest/pkg_resources.html. The pkg_resources package is slated for removal as early as 2025-11-30. Refrain from using this package or pin to Setuptools<81.\n",
      "  from pkg_resources import resource_stream, resource_exists\n"
     ]
    }
   ],
   "source": [
    "# Visualize Learned Policy\n",
    "env = gym.make(\"Taxi-v3\", render_mode=\"human\")\n",
    "state = env.reset()[0] \n",
    "done = False\n",
    "\n",
    "while not done:\n",
    "    env.render()\n",
    "    action = policy[state]\n",
    "    state, reward, done, truncate, info = env.step(action)\n",
    "    time.sleep(0.25)\n",
    "env.close()"
   ]
  },
  {
   "cell_type": "code",
   "execution_count": null,
   "id": "f1cd6390",
   "metadata": {},
   "outputs": [],
   "source": []
  }
 ],
 "metadata": {
  "kernelspec": {
   "display_name": "venv",
   "language": "python",
   "name": "python3"
  },
  "language_info": {
   "codemirror_mode": {
    "name": "ipython",
    "version": 3
   },
   "file_extension": ".py",
   "mimetype": "text/x-python",
   "name": "python",
   "nbconvert_exporter": "python",
   "pygments_lexer": "ipython3",
   "version": "3.12.3"
  }
 },
 "nbformat": 4,
 "nbformat_minor": 5
}
